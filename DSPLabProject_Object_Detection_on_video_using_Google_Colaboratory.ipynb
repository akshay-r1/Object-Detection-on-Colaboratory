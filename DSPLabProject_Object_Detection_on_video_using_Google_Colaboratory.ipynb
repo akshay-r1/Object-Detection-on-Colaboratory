{
  "nbformat": 4,
  "nbformat_minor": 0,
  "metadata": {
    "colab": {
      "name": "DSPLabProject- Object Detection on video using Google Colaboratory.ipynb",
      "provenance": [],
      "collapsed_sections": [
        "oUSzuQJXiHgv"
      ],
      "include_colab_link": true
    },
    "kernelspec": {
      "name": "python3",
      "display_name": "Python 3"
    },
    "accelerator": "GPU"
  },
  "cells": [
    {
      "cell_type": "markdown",
      "metadata": {
        "id": "view-in-github",
        "colab_type": "text"
      },
      "source": [
        "<a href=\"https://colab.research.google.com/github/akshayrajeev1996/Object-Detection-on-Colaboratory/blob/master/DSPLabProject_Object_Detection_on_video_using_Google_Colaboratory.ipynb\" target=\"_parent\"><img src=\"https://colab.research.google.com/assets/colab-badge.svg\" alt=\"Open In Colab\"/></a>"
      ]
    },
    {
      "cell_type": "markdown",
      "metadata": {
        "id": "OUu2mgj7b9R1",
        "colab_type": "text"
      },
      "source": [
        "This implementation of the notebook will use [Darknet](https://pjreddie.com/darknet/) and the [YOLOv3 algorithm](https://arxiv.org/abs/1804.02767) to implement object detection on a video input using Google Colaboratory. Additionally, we shall use a [PyTorch implementation](https://github.com/ayooshkathuria/pytorch-yolo-v3) of the same algorithm and compare results to the original implementation of the network. This notebook will cover the following:\n",
        "\n",
        "* Configuring notebook to run the project.\n",
        "  *   Enabling GPU computation on the notebook.\n",
        "  *   Checking CUDA installation on the VM and installing cudNN library.\n",
        "  * Mounting Google drive files on the notebook to use directories uploaded to your google drive. (Note: This is a 2 step authentication process from Google. The directory in use will be shared via shareable link. Add to personal drive and authenticate the drive for running this notebook.)\n",
        "* Download and setup of the two repositories\n",
        "  * Compiling darknet on the local VM. We will be using the darknet implementation by [AlexeyAB](https://github.com/AlexeyAB/darknet).\n",
        "  * Downloading the PyTorch implementation repository. We will use a forked version of the original that have added additional configurations enabled specifically for this project. Since Google Colaboratory has all the requirements pre-installed we will not require a \"requirements.txt\" file.\n",
        "  * Download pre-trained weights on the [COCO](http://cocodataset.org/) dataset.\n",
        "* Running inference \n",
        "  * Download a video file of choice. We've added a list of public test copyright free videos that you are allowed to use. This [gistfile](https://gist.github.com/jsturgis/3b19447b304616f18657) contains the description.\n",
        "  *   Running detection on the video file using pre-trained weights. \n",
        "*  Copying the output file to mounted drive for viewing the file. **Please note**: Google Colaboratory doesn't support video widgets as the notebook is spawned with a low input-output data rate. \n",
        "\n",
        "\n",
        "\n"
      ]
    },
    {
      "cell_type": "markdown",
      "metadata": {
        "id": "QAJxajSsfq9B",
        "colab_type": "text"
      },
      "source": [
        "# **Configuring the notebook for the project**\n"
      ]
    },
    {
      "cell_type": "markdown",
      "metadata": {
        "id": "wH0QN0eo8YiC",
        "colab_type": "text"
      },
      "source": [
        "**Step 0**: Enabling GPU runtime for hardware acceleration.\n",
        "Go to **Runtime > Change runtime type > Hardware Accelerator**. Change the value from **None** to **GPU** from drop down menu."
      ]
    },
    {
      "cell_type": "markdown",
      "metadata": {
        "id": "j3wE5fXnhpk5",
        "colab_type": "text"
      },
      "source": [
        "### **Connecting to Google Drive from the notebook**"
      ]
    },
    {
      "cell_type": "markdown",
      "metadata": {
        "id": "kcu5U_YX0JIY",
        "colab_type": "text"
      },
      "source": [
        "**Step 1**: Add [this folder](https://drive.google.com/open?id=1KljEBc8prgqR4wo2ujZVnuUm4mtLoTGh) to your NYU id google drive. The given folder has the structure:\n",
        "```\n",
        "DSP-Project\n",
        "│   cudnn-10.0-linux-x64-v7.5.0.56.tgz\n",
        "└───Demo-Videos\n",
        "│   │   pyTorch_video.mp4\n",
        "│   │   darknet_video.mp4\n",
        "\n",
        "```\n",
        "We require this step to enable cudNN libraries on this virtual machine. The file [cudnn-10.0-linux-x64-v7.5.0.56.tgz](https://developer.nvidia.com/compute/machine-learning/cudnn/secure/v7.5.0.56/prod/10.0_20190219/cudnn-10.0-linux-x64-v7.5.0.56.tgz) is owned by Nvidia and otherwise requires developer login to download. "
      ]
    },
    {
      "cell_type": "code",
      "metadata": {
        "id": "ifTu0HYibyft",
        "colab_type": "code",
        "outputId": "e033a75d-74ea-48a6-d25d-2237b0768410",
        "colab": {
          "base_uri": "https://localhost:8080/",
          "height": 34
        }
      },
      "source": [
        "from google.colab import drive\n",
        "drive.mount('/content/gdrive',force_remount=True)"
      ],
      "execution_count": 0,
      "outputs": [
        {
          "output_type": "stream",
          "text": [
            "Mounted at /content/gdrive\n"
          ],
          "name": "stdout"
        }
      ]
    },
    {
      "cell_type": "markdown",
      "metadata": {
        "id": "oUSzuQJXiHgv",
        "colab_type": "text"
      },
      "source": [
        "### **Checking CUDA release version and installing cudNN based on version of CUDA available**"
      ]
    },
    {
      "cell_type": "code",
      "metadata": {
        "id": "jxq1LeiaicTn",
        "colab_type": "code",
        "outputId": "069df307-e0e1-49af-f2e8-e7979b83f116",
        "colab": {
          "base_uri": "https://localhost:8080/",
          "height": 85
        }
      },
      "source": [
        "#Check CUDA driver pre-installed on the machine\n",
        "!/usr/local/cuda/bin/nvcc --version\n"
      ],
      "execution_count": 0,
      "outputs": [
        {
          "output_type": "stream",
          "text": [
            "nvcc: NVIDIA (R) Cuda compiler driver\n",
            "Copyright (c) 2005-2018 NVIDIA Corporation\n",
            "Built on Sat_Aug_25_21:08:01_CDT_2018\n",
            "Cuda compilation tools, release 10.0, V10.0.130\n"
          ],
          "name": "stdout"
        }
      ]
    },
    {
      "cell_type": "markdown",
      "metadata": {
        "id": "-_UU-ufAioPT",
        "colab_type": "text"
      },
      "source": [
        "As the version present is 10.0 pre-installed on the machine, we will download the [CUDNN version](https://developer.nvidia.com/compute/machine-learning/cudnn/secure/v7.5.0.56/prod/10.0_20190219/cudnn-10.0-linux-x64-v7.5.0.56.tgz) for 10.0 available on the NVIDIA website.\n",
        "This file is then uploaded to the google drive folder named **DSP-Project** maintained for this implementation. We shall unzip the file on the local VM and enable permissions to use this library.\n"
      ]
    },
    {
      "cell_type": "code",
      "metadata": {
        "id": "wOQAFDuriiqb",
        "colab_type": "code",
        "outputId": "a2c38437-08ad-4e43-bfce-24e428787b58",
        "colab": {
          "base_uri": "https://localhost:8080/",
          "height": 119
        }
      },
      "source": [
        "!tar -xvzf gdrive/My\\ Drive/DSP-Project/cudnn-10.0-linux-x64-v7.5.0.56.tgz -C /usr/local\n",
        "!chmod a+r /usr/local/cuda/include/cudnn.h"
      ],
      "execution_count": 0,
      "outputs": [
        {
          "output_type": "stream",
          "text": [
            "cuda/include/cudnn.h\n",
            "cuda/NVIDIA_SLA_cuDNN_Support.txt\n",
            "cuda/lib64/libcudnn.so\n",
            "cuda/lib64/libcudnn.so.7\n",
            "cuda/lib64/libcudnn.so.7.5.0\n",
            "cuda/lib64/libcudnn_static.a\n"
          ],
          "name": "stdout"
        }
      ]
    },
    {
      "cell_type": "markdown",
      "metadata": {
        "id": "jFc_JeBbnsSq",
        "colab_type": "text"
      },
      "source": [
        "# **Setting up repositories**"
      ]
    },
    {
      "cell_type": "markdown",
      "metadata": {
        "id": "0loYKT538x66",
        "colab_type": "text"
      },
      "source": [
        "### **Compiling Darknet**\n",
        "As this project was originally written in C, we will have to make the project in this machine. Since this is a GPU enabled machine, we shall modify the makefile to incorporate the necessary changes. "
      ]
    },
    {
      "cell_type": "code",
      "metadata": {
        "id": "m6UFJx8cEgjO",
        "colab_type": "code",
        "colab": {}
      },
      "source": [
        "#AlexeyAB repository\n",
        "!git clone https://github.com/AlexeyAB/darknet.git\n",
        "%cd darknet\n",
        "\n",
        "#Make changes to makefile\n",
        "import fileinput  \n",
        "STRINGS_TO_REPLACE = [\n",
        "    ('GPU=0', 'GPU=1'), \n",
        "    ('OPENCV=0', 'OPENCV=1')\n",
        "]\n",
        "\n",
        "for line in fileinput.input('./Makefile', inplace=True):\n",
        "    replaced = False\n",
        "    for search, replace in STRINGS_TO_REPLACE:\n",
        "        if search in line:\n",
        "            print(line.rstrip().replace(search, replace))\n",
        "            replaced = True\n",
        "            break\n",
        "    if not replaced:\n",
        "        print(line.rstrip())\n",
        "fileinput.close()\n",
        "!make\n"
      ],
      "execution_count": 0,
      "outputs": []
    },
    {
      "cell_type": "markdown",
      "metadata": {
        "id": "oZB4pRVe9kSp",
        "colab_type": "text"
      },
      "source": [
        "### **Downloading the python implementation of the algorithm**"
      ]
    },
    {
      "cell_type": "code",
      "metadata": {
        "id": "9o2SphoT927H",
        "colab_type": "code",
        "colab": {}
      },
      "source": [
        "%cd .. \n",
        "!git clone https://github.com/akshayrajeev1996/pytorch-yolo-v3.git"
      ],
      "execution_count": 0,
      "outputs": []
    },
    {
      "cell_type": "markdown",
      "metadata": {
        "id": "Bp84Fybd-qgv",
        "colab_type": "text"
      },
      "source": [
        "### **Download pre-trained weights**"
      ]
    },
    {
      "cell_type": "code",
      "metadata": {
        "id": "ltzC6idwIJIB",
        "colab_type": "code",
        "colab": {}
      },
      "source": [
        "!wget https://pjreddie.com/media/files/yolov3.weights\n",
        "!cp yolov3.weights ./darknet/\n",
        "!cp yolov3.weights ./pytorch-yolo-v3/"
      ],
      "execution_count": 0,
      "outputs": []
    },
    {
      "cell_type": "markdown",
      "metadata": {
        "id": "EH1coy2e-N0k",
        "colab_type": "text"
      },
      "source": [
        "#### **Sanity Check:**\n",
        "Lets take a quick look at the current state of the machine. Our present directory tree should like this. \n",
        "```\n",
        "content\n",
        "│   yolov3.weights\n",
        "└───darknet\n",
        "│   │   ...\n",
        "└───gdrive\n",
        "│   │   My Drive\n",
        "└───pytorch-yolo-v3\n",
        "│   │   ...\n",
        "└───sample-data\n",
        "│   │   ...\n",
        "\n",
        "``` "
      ]
    },
    {
      "cell_type": "code",
      "metadata": {
        "id": "jEMOd4rpVnxc",
        "colab_type": "code",
        "colab": {}
      },
      "source": [
        "#To confirm the directory tree run this code block\n",
        "!ls -la "
      ],
      "execution_count": 0,
      "outputs": []
    },
    {
      "cell_type": "markdown",
      "metadata": {
        "id": "wwjF2nrv-4yd",
        "colab_type": "text"
      },
      "source": [
        "# **Running Inference**\n"
      ]
    },
    {
      "cell_type": "markdown",
      "metadata": {
        "id": "lXYnATk9Ev7l",
        "colab_type": "text"
      },
      "source": [
        "### **List of public test videos**\n"
      ]
    },
    {
      "cell_type": "code",
      "metadata": {
        "id": "GDoDxDmQDaUa",
        "colab_type": "code",
        "colab": {}
      },
      "source": [
        "videos=[{\"title\":\"ForBiggerFun.mp4\",\"url\":\"http://commondatastorage.googleapis.com/gtv-videos-bucket/sample/ForBiggerFun.mp4\"},\n",
        "        {\"title\":\"ForBiggerBlazes.mp4\",\"url\":\"http://commondatastorage.googleapis.com/gtv-videos-bucket/sample/ForBiggerBlazes.mp4\"},\n",
        "        {\"title\":\"ForBiggerEscapes.mp4\",\"url\":\"http://commondatastorage.googleapis.com/gtv-videos-bucket/sample/ForBiggerEscapes.mp4\"},\n",
        "        {\"title\":\"ForBiggerJoyrides.mp4\",\"url\":\"http://commondatastorage.googleapis.com/gtv-videos-bucket/sample/ForBiggerJoyrides.mp4\"},\n",
        "        {\"title\":\"ForBiggerMeltdowns.mp4\",\"url\":\"http://commondatastorage.googleapis.com/gtv-videos-bucket/sample/ForBiggerMeltdowns.mp4\"},\n",
        "        {\"title\":\"Sintel.mp4\",\"url\":\"http://commondatastorage.googleapis.com/gtv-videos-bucket/sample/Sintel.mp4\"},\n",
        "        {\"title\":\"SubaruOutbackOnStreetAndDirt.mp4\",\"url\":\"http://commondatastorage.googleapis.com/gtv-videos-bucket/sample/SubaruOutbackOnStreetAndDirt.mp4\"},\n",
        "        {\"title\":\"TearsOfSteel.mp4\",\"url\":\"http://commondatastorage.googleapis.com/gtv-videos-bucket/sample/TearsOfSteel.mp4\"},\n",
        "        {\"title\":\"WeAreGoingOnBullrun.mp4\",\"url\":\"http://commondatastorage.googleapis.com/gtv-videos-bucket/sample/WeAreGoingOnBullrun.mp4\"},\n",
        "        {\"title\":\"WhatCarCanYouGetForAGrand.mp4\",\"url\":\"http://commondatastorage.googleapis.com/gtv-videos-bucket/sample/WhatCarCanYouGetForAGrand.mp4\"},\n",
        "        {\"title\":\"VolkswagenGTIReview.mp4\",\"url\":\"http://commondatastorage.googleapis.com/gtv-videos-bucket/sample/VolkswagenGTIReview.mp4\"}]"
      ],
      "execution_count": 0,
      "outputs": []
    },
    {
      "cell_type": "markdown",
      "metadata": {
        "id": "v1qmUUxrFBsY",
        "colab_type": "text"
      },
      "source": [
        "### **Download the video**\n",
        "Change the list index from **0->10** to download the video file of choice. We shall be using the video at index 0 as it is a video of length 1 minute with a lot of objects to detect. "
      ]
    },
    {
      "cell_type": "code",
      "metadata": {
        "id": "1DFEfdVDC2Hu",
        "colab_type": "code",
        "colab": {}
      },
      "source": [
        "def download_video(vid):\n",
        "  title=vid[\"title\"]\n",
        "  url=vid[\"url\"]\n",
        "  !wget $url\n",
        "  !cp $title ./pytorch-yolo-v3/\n",
        "  !cp $title ./darknet\n",
        "  \n",
        "### CHANGE INDEX AT NEXT LINE TO CHOOSE A DIFFERENT VIDEO\n",
        "video_file=videos[0]\n",
        "download_video(video_file)"
      ],
      "execution_count": 0,
      "outputs": []
    },
    {
      "cell_type": "markdown",
      "metadata": {
        "id": "rPrHN92gXhBx",
        "colab_type": "text"
      },
      "source": [
        "### **Running both detectors**\n"
      ]
    },
    {
      "cell_type": "code",
      "metadata": {
        "id": "WohmQu-sJaDr",
        "colab_type": "code",
        "colab": {}
      },
      "source": [
        "def run_detector(video_file):\n",
        "  from imutils.video import count_frames\n",
        "  import time\n",
        "  total_frames=count_frames(video_file)\n",
        "  %cd darknet\n",
        "  start=time.time()\n",
        "  !./darknet detector demo cfg/coco.data cfg/yolov3.cfg yolov3.weights $video_file -dont_show -out_filename darknet_video.mp4\n",
        "  avg_fps_darknet=total_frames/(time.time()-start)\n",
        "  %cd ../pytorch-yolo-v3\n",
        "  start=time.time()\n",
        "  !python video_demo.py --video $video_file --dont_show 1\n",
        "  avg_fps_python=total_frames/(time.time()-start)\n",
        "  %cd ..\n",
        "  return avg_fps_darknet,avg_fps_python"
      ],
      "execution_count": 0,
      "outputs": []
    },
    {
      "cell_type": "code",
      "metadata": {
        "id": "rmIdRnzfTkoN",
        "colab_type": "code",
        "colab": {}
      },
      "source": [
        "# Run the detection function\n",
        "avg_darknet,avg_python= run_detector(video_file['title'])\n"
      ],
      "execution_count": 0,
      "outputs": []
    },
    {
      "cell_type": "markdown",
      "metadata": {
        "id": "KKhLlGN_aUkM",
        "colab_type": "text"
      },
      "source": [
        "### **Average FPS values of each detector**"
      ]
    },
    {
      "cell_type": "code",
      "metadata": {
        "id": "MZO_1q3Vaf2W",
        "colab_type": "code",
        "colab": {}
      },
      "source": [
        "print(\"The average FPS of each detector are:\")\n",
        "print(\"Darknet: %.2f\"%avg_darknet)\n",
        "print(\"Python: %.2f\"%avg_python)"
      ],
      "execution_count": 0,
      "outputs": []
    },
    {
      "cell_type": "markdown",
      "metadata": {
        "id": "29bYm4T5bLnk",
        "colab_type": "text"
      },
      "source": [
        "# **Copying the output files to google drive**"
      ]
    },
    {
      "cell_type": "code",
      "metadata": {
        "id": "Af8UMLwdi86y",
        "colab_type": "code",
        "colab": {}
      },
      "source": [
        "#Copy videos with inference to personal google drives\n",
        "!cp ./darknet/darknet_video.mp4 /content/gdrive/My\\ Drive/DSP-Project/Demo-Videos/darknet_video.mp4\n",
        "!cp ./pytorch-yolo-v3/output.mp4 /content/gdrive/My\\ Drive/DSP-Project/Demo-Videos/pytorch_video.mp4"
      ],
      "execution_count": 0,
      "outputs": []
    },
    {
      "cell_type": "markdown",
      "metadata": {
        "id": "-IZ9MU4NcrBF",
        "colab_type": "text"
      },
      "source": [
        "# **Sources**\n",
        "* YOLO original website and [paper](https://arxiv.org/abs/1804.02767) by [Joseph Redmon](https://pjreddie.com/darknet/).\n",
        "* [Dave Ibanyez's blogpost](http://blog.ibanyez.info/blogs/coding/20190410-run-a-google-colab-notebook-to-train-yolov3-using-darknet-in/) on compiling Darknet on Colab.\n",
        "* [AlexeyAB's](https://github.com/AlexeyAB/darknet) darknet implementation.\n",
        "* Ayoosh Kathuria's Repository- [A PyTorch implementation of the YOLO v3 object detection algorithm.](https://github.com/ayooshkathuria/pytorch-yolo-v3)"
      ]
    }
  ]
}